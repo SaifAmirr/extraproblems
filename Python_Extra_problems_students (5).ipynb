{
  "nbformat": 4,
  "nbformat_minor": 0,
  "metadata": {
    "colab": {
      "name": "Python_Extra_problems_students.ipynb",
      "provenance": [],
      "collapsed_sections": []
    },
    "kernelspec": {
      "name": "python3",
      "display_name": "Python 3"
    },
    "language_info": {
      "name": "python"
    }
  },
  "cells": [
    {
      "cell_type": "markdown",
      "metadata": {
        "id": "s6D61aToNZEM"
      },
      "source": [
        "#Made by Mazen Mobtasem\n",
        "#GO MY CODE EGYPT"
      ]
    },
    {
      "cell_type": "markdown",
      "metadata": {
        "id": "7G7eaoOTNmXw"
      },
      "source": [
        "Write a Python program which accepts the radius of a circle from the user and compute the area.\n",
        "In geometry, the area enclosed by a circle of radius r is πr2. Here the Greek letter π represents a constant, approximately equal to 3.14159, which is equal to the ratio of the circumference of any circle to its diameter."
      ]
    },
    {
      "cell_type": "code",
      "metadata": {
        "id": "v1h4btBehylA",
        "colab": {
          "base_uri": "https://localhost:8080/"
        },
        "outputId": "773f5716-1fa6-4ca5-ed08-d32ee1010f6c"
      },
      "source": [
        "import math\n",
        "radius = int(input())\n",
        "area = math.pi * radius **2\n",
        "area "
      ],
      "execution_count": null,
      "outputs": [
        {
          "name": "stdout",
          "output_type": "stream",
          "text": [
            "4\n"
          ]
        },
        {
          "output_type": "execute_result",
          "data": {
            "text/plain": [
              "50.26548245743669"
            ]
          },
          "metadata": {},
          "execution_count": 5
        }
      ]
    },
    {
      "cell_type": "markdown",
      "metadata": {
        "id": "loYgbym-OjHm"
      },
      "source": [
        "Write a Python program which accepts the user's first and last name and print them in reverse order with a space between them."
      ]
    },
    {
      "cell_type": "code",
      "metadata": {
        "colab": {
          "base_uri": "https://localhost:8080/"
        },
        "id": "DwqQ-TpANy35",
        "outputId": "29f32918-d8ec-4130-9033-2f732453267a"
      },
      "source": [
        ""
      ],
      "execution_count": null,
      "outputs": [
        {
          "output_type": "stream",
          "text": [
            "Input your First Name : das\n",
            "Input your Last Name : dasf\n",
            "Hello  dasf das\n"
          ],
          "name": "stdout"
        }
      ]
    },
    {
      "cell_type": "markdown",
      "metadata": {
        "id": "wMJBiXwqO3Sk"
      },
      "source": [
        "Write a Python program to display the first and last colors from the following list.\n",
        "\n",
        "color_list = [\"Red\",\"Green\",\"White\" ,\"Black\"]f"
      ]
    },
    {
      "cell_type": "code",
      "metadata": {
        "colab": {
          "base_uri": "https://localhost:8080/"
        },
        "id": "WaMfDCVnO0N1",
        "outputId": "a72fc1f0-5b14-4f23-e17f-6f6699a236d5"
      },
      "source": [
        ""
      ],
      "execution_count": null,
      "outputs": [
        {
          "output_type": "stream",
          "text": [
            "Red Black\n"
          ],
          "name": "stdout"
        }
      ]
    },
    {
      "cell_type": "markdown",
      "metadata": {
        "id": "p9wJz-xZPJmI"
      },
      "source": [
        "Write a Python program to print out all even numbers from a given numbers list in the same order and stop the printing if any numbers that come after 237 in the sequence.\n",
        "\n",
        "Sample numbers list:\n",
        "\n",
        "numbers = [    \n",
        "    386, 462, 47, 418, 907, 344, 236, 375, 823, 566, 597, 978, 328, 615, 953, 345, \n",
        "    399, 162, 758, 219, 918, 237, 412, 566, 826, 248, 866, 950, 626, 949, 687, 217, \n",
        "    815, 67, 104, 58, 512, 24, 892, 894, 767, 553, 81, 379, 843, 831, 445, 742, 717, \n",
        "    958,743, 527\n",
        "    ]"
      ]
    },
    {
      "cell_type": "code",
      "metadata": {
        "colab": {
          "base_uri": "https://localhost:8080/"
        },
        "id": "ouNar61QPJ5X",
        "outputId": "5dc1d4b5-fe90-4f65-8b32-66ea4ce76737"
      },
      "source": [
        "for i in range(1000):\n",
        "  if i%2 == 0:\n",
        "    print(i)"
      ],
      "execution_count": null,
      "outputs": [
        {
          "output_type": "stream",
          "name": "stdout",
          "text": [
            "0\n",
            "2\n",
            "4\n",
            "6\n",
            "8\n",
            "10\n",
            "12\n",
            "14\n",
            "16\n",
            "18\n",
            "20\n",
            "22\n",
            "24\n",
            "26\n",
            "28\n",
            "30\n",
            "32\n",
            "34\n",
            "36\n",
            "38\n",
            "40\n",
            "42\n",
            "44\n",
            "46\n",
            "48\n",
            "50\n",
            "52\n",
            "54\n",
            "56\n",
            "58\n",
            "60\n",
            "62\n",
            "64\n",
            "66\n",
            "68\n",
            "70\n",
            "72\n",
            "74\n",
            "76\n",
            "78\n",
            "80\n",
            "82\n",
            "84\n",
            "86\n",
            "88\n",
            "90\n",
            "92\n",
            "94\n",
            "96\n",
            "98\n",
            "100\n",
            "102\n",
            "104\n",
            "106\n",
            "108\n",
            "110\n",
            "112\n",
            "114\n",
            "116\n",
            "118\n",
            "120\n",
            "122\n",
            "124\n",
            "126\n",
            "128\n",
            "130\n",
            "132\n",
            "134\n",
            "136\n",
            "138\n",
            "140\n",
            "142\n",
            "144\n",
            "146\n",
            "148\n",
            "150\n",
            "152\n",
            "154\n",
            "156\n",
            "158\n",
            "160\n",
            "162\n",
            "164\n",
            "166\n",
            "168\n",
            "170\n",
            "172\n",
            "174\n",
            "176\n",
            "178\n",
            "180\n",
            "182\n",
            "184\n",
            "186\n",
            "188\n",
            "190\n",
            "192\n",
            "194\n",
            "196\n",
            "198\n",
            "200\n",
            "202\n",
            "204\n",
            "206\n",
            "208\n",
            "210\n",
            "212\n",
            "214\n",
            "216\n",
            "218\n",
            "220\n",
            "222\n",
            "224\n",
            "226\n",
            "228\n",
            "230\n",
            "232\n",
            "234\n",
            "236\n",
            "238\n",
            "240\n",
            "242\n",
            "244\n",
            "246\n",
            "248\n",
            "250\n",
            "252\n",
            "254\n",
            "256\n",
            "258\n",
            "260\n",
            "262\n",
            "264\n",
            "266\n",
            "268\n",
            "270\n",
            "272\n",
            "274\n",
            "276\n",
            "278\n",
            "280\n",
            "282\n",
            "284\n",
            "286\n",
            "288\n",
            "290\n",
            "292\n",
            "294\n",
            "296\n",
            "298\n",
            "300\n",
            "302\n",
            "304\n",
            "306\n",
            "308\n",
            "310\n",
            "312\n",
            "314\n",
            "316\n",
            "318\n",
            "320\n",
            "322\n",
            "324\n",
            "326\n",
            "328\n",
            "330\n",
            "332\n",
            "334\n",
            "336\n",
            "338\n",
            "340\n",
            "342\n",
            "344\n",
            "346\n",
            "348\n",
            "350\n",
            "352\n",
            "354\n",
            "356\n",
            "358\n",
            "360\n",
            "362\n",
            "364\n",
            "366\n",
            "368\n",
            "370\n",
            "372\n",
            "374\n",
            "376\n",
            "378\n",
            "380\n",
            "382\n",
            "384\n",
            "386\n",
            "388\n",
            "390\n",
            "392\n",
            "394\n",
            "396\n",
            "398\n",
            "400\n",
            "402\n",
            "404\n",
            "406\n",
            "408\n",
            "410\n",
            "412\n",
            "414\n",
            "416\n",
            "418\n",
            "420\n",
            "422\n",
            "424\n",
            "426\n",
            "428\n",
            "430\n",
            "432\n",
            "434\n",
            "436\n",
            "438\n",
            "440\n",
            "442\n",
            "444\n",
            "446\n",
            "448\n",
            "450\n",
            "452\n",
            "454\n",
            "456\n",
            "458\n",
            "460\n",
            "462\n",
            "464\n",
            "466\n",
            "468\n",
            "470\n",
            "472\n",
            "474\n",
            "476\n",
            "478\n",
            "480\n",
            "482\n",
            "484\n",
            "486\n",
            "488\n",
            "490\n",
            "492\n",
            "494\n",
            "496\n",
            "498\n",
            "500\n",
            "502\n",
            "504\n",
            "506\n",
            "508\n",
            "510\n",
            "512\n",
            "514\n",
            "516\n",
            "518\n",
            "520\n",
            "522\n",
            "524\n",
            "526\n",
            "528\n",
            "530\n",
            "532\n",
            "534\n",
            "536\n",
            "538\n",
            "540\n",
            "542\n",
            "544\n",
            "546\n",
            "548\n",
            "550\n",
            "552\n",
            "554\n",
            "556\n",
            "558\n",
            "560\n",
            "562\n",
            "564\n",
            "566\n",
            "568\n",
            "570\n",
            "572\n",
            "574\n",
            "576\n",
            "578\n",
            "580\n",
            "582\n",
            "584\n",
            "586\n",
            "588\n",
            "590\n",
            "592\n",
            "594\n",
            "596\n",
            "598\n",
            "600\n",
            "602\n",
            "604\n",
            "606\n",
            "608\n",
            "610\n",
            "612\n",
            "614\n",
            "616\n",
            "618\n",
            "620\n",
            "622\n",
            "624\n",
            "626\n",
            "628\n",
            "630\n",
            "632\n",
            "634\n",
            "636\n",
            "638\n",
            "640\n",
            "642\n",
            "644\n",
            "646\n",
            "648\n",
            "650\n",
            "652\n",
            "654\n",
            "656\n",
            "658\n",
            "660\n",
            "662\n",
            "664\n",
            "666\n",
            "668\n",
            "670\n",
            "672\n",
            "674\n",
            "676\n",
            "678\n",
            "680\n",
            "682\n",
            "684\n",
            "686\n",
            "688\n",
            "690\n",
            "692\n",
            "694\n",
            "696\n",
            "698\n",
            "700\n",
            "702\n",
            "704\n",
            "706\n",
            "708\n",
            "710\n",
            "712\n",
            "714\n",
            "716\n",
            "718\n",
            "720\n",
            "722\n",
            "724\n",
            "726\n",
            "728\n",
            "730\n",
            "732\n",
            "734\n",
            "736\n",
            "738\n",
            "740\n",
            "742\n",
            "744\n",
            "746\n",
            "748\n",
            "750\n",
            "752\n",
            "754\n",
            "756\n",
            "758\n",
            "760\n",
            "762\n",
            "764\n",
            "766\n",
            "768\n",
            "770\n",
            "772\n",
            "774\n",
            "776\n",
            "778\n",
            "780\n",
            "782\n",
            "784\n",
            "786\n",
            "788\n",
            "790\n",
            "792\n",
            "794\n",
            "796\n",
            "798\n",
            "800\n",
            "802\n",
            "804\n",
            "806\n",
            "808\n",
            "810\n",
            "812\n",
            "814\n",
            "816\n",
            "818\n",
            "820\n",
            "822\n",
            "824\n",
            "826\n",
            "828\n",
            "830\n",
            "832\n",
            "834\n",
            "836\n",
            "838\n",
            "840\n",
            "842\n",
            "844\n",
            "846\n",
            "848\n",
            "850\n",
            "852\n",
            "854\n",
            "856\n",
            "858\n",
            "860\n",
            "862\n",
            "864\n",
            "866\n",
            "868\n",
            "870\n",
            "872\n",
            "874\n",
            "876\n",
            "878\n",
            "880\n",
            "882\n",
            "884\n",
            "886\n",
            "888\n",
            "890\n",
            "892\n",
            "894\n",
            "896\n",
            "898\n",
            "900\n",
            "902\n",
            "904\n",
            "906\n",
            "908\n",
            "910\n",
            "912\n",
            "914\n",
            "916\n",
            "918\n",
            "920\n",
            "922\n",
            "924\n",
            "926\n",
            "928\n",
            "930\n",
            "932\n",
            "934\n",
            "936\n",
            "938\n",
            "940\n",
            "942\n",
            "944\n",
            "946\n",
            "948\n",
            "950\n",
            "952\n",
            "954\n",
            "956\n",
            "958\n",
            "960\n",
            "962\n",
            "964\n",
            "966\n",
            "968\n",
            "970\n",
            "972\n",
            "974\n",
            "976\n",
            "978\n",
            "980\n",
            "982\n",
            "984\n",
            "986\n",
            "988\n",
            "990\n",
            "992\n",
            "994\n",
            "996\n",
            "998\n"
          ]
        }
      ]
    },
    {
      "cell_type": "markdown",
      "metadata": {
        "id": "o9fCEHYwPfZj"
      },
      "source": [
        "Write a Python program that will accept the base and height of a triangle and compute the area"
      ]
    },
    {
      "cell_type": "code",
      "metadata": {
        "colab": {
          "base_uri": "https://localhost:8080/"
        },
        "id": "9mWrX3CNPfnr",
        "outputId": "793a2c30-f1f4-4591-9bbd-02783c4cbebf"
      },
      "source": [
        "base = int(input(\"Enter the base of the triangle :\"))\n",
        "height = int(input(\"Enter the height of the triangle: \"))\n",
        "area = (base/2)* height\n",
        "area"
      ],
      "execution_count": null,
      "outputs": [
        {
          "name": "stdout",
          "output_type": "stream",
          "text": [
            "Enter the base of the triangle :4\n",
            "Enter the height of the triangle: 2\n"
          ]
        },
        {
          "output_type": "execute_result",
          "data": {
            "text/plain": [
              "4.0"
            ]
          },
          "metadata": {},
          "execution_count": 9
        }
      ]
    },
    {
      "cell_type": "markdown",
      "metadata": {
        "id": "yf00drZfPr9Z"
      },
      "source": [
        "Write a Python program to solve (x + y) * (x + y).\n",
        "\n",
        "Test Data : x = 4, y = 3\n",
        "Expected Output : (4 + 3) ^ 2) = 49"
      ]
    },
    {
      "cell_type": "code",
      "metadata": {
        "colab": {
          "base_uri": "https://localhost:8080/"
        },
        "id": "ZSbE6DBqPs59",
        "outputId": "bf3092f0-d8fc-4098-9873-f62a9c784f29"
      },
      "source": [
        ""
      ],
      "execution_count": null,
      "outputs": [
        {
          "output_type": "stream",
          "text": [
            "(4 + 3) ^ 2) = 49\n"
          ],
          "name": "stdout"
        }
      ]
    },
    {
      "cell_type": "markdown",
      "metadata": {
        "id": "s5YLdVEVP5AC"
      },
      "source": [
        "Write a python program to find the sum of the first n positive integers."
      ]
    },
    {
      "cell_type": "code",
      "metadata": {
        "colab": {
          "base_uri": "https://localhost:8080/"
        },
        "id": "FZj0xUDtP5Vb",
        "outputId": "930732c7-4905-491d-c1f3-89a77d0f2960"
      },
      "source": [
        ""
      ],
      "execution_count": null,
      "outputs": [
        {
          "output_type": "stream",
          "text": [
            "Input a number: 4\n",
            "10.0\n"
          ],
          "name": "stdout"
        }
      ]
    },
    {
      "cell_type": "markdown",
      "metadata": {
        "id": "USES0ZalQC9c"
      },
      "source": [
        "Write a Python program to convert all units of time into seconds"
      ]
    },
    {
      "cell_type": "code",
      "metadata": {
        "colab": {
          "base_uri": "https://localhost:8080/"
        },
        "id": "SqBCIPfOQDKt",
        "outputId": "a41bdc86-8db9-4409-d274-4f7b43c0af36"
      },
      "source": [
        "days = int(input(\"Days:\"))\n",
        "hours = int(input(\"Hours: \"))\n",
        "min = int(input(\"Min:\"))\n",
        "sec = int(input(\"Sec:\"))\n",
        "total = (days*24*60*60) + (hours*60*60) + (min*60) + (sec)\n",
        "total"
      ],
      "execution_count": null,
      "outputs": [
        {
          "name": "stdout",
          "output_type": "stream",
          "text": [
            "Days:2\n",
            "Hours: 3\n",
            "Min:17\n",
            "Sec:6\n"
          ]
        },
        {
          "output_type": "execute_result",
          "data": {
            "text/plain": [
              "184626"
            ]
          },
          "metadata": {},
          "execution_count": 10
        }
      ]
    },
    {
      "cell_type": "markdown",
      "metadata": {
        "id": "5QwLi6YdQJte"
      },
      "source": [
        "Write a Python program to count the number of even and odd numbers from a series of numbers."
      ]
    },
    {
      "cell_type": "code",
      "metadata": {
        "colab": {
          "base_uri": "https://localhost:8080/"
        },
        "id": "jSMfDEZNQc3t",
        "outputId": "a624d0a4-81c8-4e17-fa0f-f313dce7a7c8"
      },
      "source": [
        ""
      ],
      "execution_count": null,
      "outputs": [
        {
          "output_type": "stream",
          "text": [
            "Number of even numbers : 4\n",
            "Number of odd numbers : 5\n"
          ],
          "name": "stdout"
        }
      ]
    },
    {
      "cell_type": "markdown",
      "metadata": {
        "id": "XKGiOn0GQfKS"
      },
      "source": [
        "Write a Python program to convert temperatures to and from celsius, fahrenheit."
      ]
    },
    {
      "cell_type": "code",
      "metadata": {
        "colab": {
          "base_uri": "https://localhost:8080/"
        },
        "id": "4N08X930Qe-W",
        "outputId": "67b2515e-0167-4a7e-a965-ada2e2b1c6fd"
      },
      "source": [
        ""
      ],
      "execution_count": null,
      "outputs": [
        {
          "output_type": "stream",
          "text": [
            "Input the  temperature you like to convert? (e.g., 45F, 102C etc.) : 45F\n",
            "The temperature in Celsius is 7 degrees.\n"
          ],
          "name": "stdout"
        }
      ]
    },
    {
      "cell_type": "code",
      "metadata": {
        "id": "8TMoEdc_RfGG"
      },
      "source": [
        ""
      ],
      "execution_count": null,
      "outputs": []
    }
  ]
}